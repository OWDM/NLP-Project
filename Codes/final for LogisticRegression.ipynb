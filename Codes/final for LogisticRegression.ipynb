{
 "cells": [
  {
   "cell_type": "code",
   "execution_count": 2,
   "metadata": {},
   "outputs": [],
   "source": [
    "import pandas as pd\n",
    "import nltk\n",
    "from nltk.corpus import stopwords\n",
    "from nltk.tokenize import word_tokenize\n",
    "from sklearn.model_selection import train_test_split\n",
    "from sklearn.feature_extraction.text import TfidfVectorizer\n",
    "from sklearn.linear_model import LogisticRegression\n",
    "from sklearn.metrics import accuracy_score, confusion_matrix"
   ]
  },
  {
   "cell_type": "code",
   "execution_count": 3,
   "metadata": {},
   "outputs": [
    {
     "name": "stderr",
     "output_type": "stream",
     "text": [
      "[nltk_data] Downloading package stopwords to\n",
      "[nltk_data]     C:\\Users\\Musae\\AppData\\Roaming\\nltk_data...\n",
      "[nltk_data]   Package stopwords is already up-to-date!\n"
     ]
    }
   ],
   "source": [
    "df = pd.read_csv('C:\\\\Users\\\\Musae\\\\Documents\\\\GitHub-REPOs\\\\NLP-Project\\\\data\\\\ar_reviews_100k.tsv', sep='\\t')\n",
    "df.columns = ['label', 'text']\n",
    "\n",
    "# Drop mixed labels and duplicates\n",
    "df = df[df['label'] != 'Mixed']\n",
    "df = df.drop_duplicates()\n",
    "\n",
    "# Download stopwords\n",
    "nltk.download('stopwords')\n",
    "stop_words = set(stopwords.words('arabic'))\n",
    "\n",
    "# Function to remove diacritics and emojis\n",
    "def clean_text(text):\n",
    "    tokens = word_tokenize(text)\n",
    "    return ' '.join([word for word in tokens if word not in stop_words])\n",
    "\n",
    "# Apply text cleaning\n",
    "df['cleaned_text'] = df['text'].apply(clean_text)"
   ]
  },
  {
   "cell_type": "code",
   "execution_count": 4,
   "metadata": {},
   "outputs": [
    {
     "name": "stdout",
     "output_type": "stream",
     "text": [
      "Logistic Regression Accuracy: 0.8482\n",
      "Logistic Regression Confusion Matrix:\n",
      "[[8417 1559]\n",
      " [1477 8547]]\n"
     ]
    }
   ],
   "source": [
    "# Split data into train and test sets\n",
    "x_train, x_test, y_train, y_test = train_test_split(df['cleaned_text'], df['label'], test_size=0.3, random_state=42)\n",
    "\n",
    "# Convert text to TF-IDF features\n",
    "vectorizer = TfidfVectorizer()\n",
    "x_train_tfidf = vectorizer.fit_transform(x_train)\n",
    "x_test_tfidf = vectorizer.transform(x_test)\n",
    "\n",
    "# Train and evaluate \n",
    "model = LogisticRegression(max_iter=1000)\n",
    "model.fit(x_train_tfidf, y_train)\n",
    "y_pred = model.predict(x_test_tfidf)\n",
    "\n",
    "accuracy = accuracy_score(y_test, y_pred)\n",
    "conf_matrix = confusion_matrix(y_test, y_pred)\n",
    "\n",
    "print(f\"Logistic Regression Accuracy: {accuracy:.4f}\")\n",
    "print(f\"Logistic Regression Confusion Matrix:\\n{conf_matrix}\")\n"
   ]
  },
  {
   "cell_type": "code",
   "execution_count": 15,
   "metadata": {},
   "outputs": [
    {
     "name": "stdout",
     "output_type": "stream",
     "text": [
      "Text: دكتور عبدالله انيق و استثنائي - Predicted Label: Positive\n",
      "Text: هذا المطعم مليان فيران - Predicted Label: Negative\n",
      "Logistic Regression Accuracy: 0.8482\n"
     ]
    }
   ],
   "source": [
    "# Test the model with new data\n",
    "new_texts = [\"دكتور عبدالله انيق و استثنائي\",'هذا المطعم مليان فيران']\n",
    "new_texts_tfidf = vectorizer.transform(new_texts)  # Apply the same TF-IDF transformation\n",
    "new_predictions = model.predict(new_texts_tfidf)  # Predict new texts\n",
    "\n",
    "# Display results\n",
    "for text, prediction in zip(new_texts, new_predictions):\n",
    "    print(f\"Text: {text} - Predicted Label: {prediction}\")\n",
    "\n",
    "# Optionally print the accuracy on the test set\n",
    "y_pred = model.predict(x_test_tfidf)\n",
    "accuracy = accuracy_score(y_test, y_pred)\n",
    "print(f\"Logistic Regression Accuracy: {accuracy:.4f}\")"
   ]
  }
 ],
 "metadata": {
  "kernelspec": {
   "display_name": "Python 3",
   "language": "python",
   "name": "python3"
  },
  "language_info": {
   "codemirror_mode": {
    "name": "ipython",
    "version": 3
   },
   "file_extension": ".py",
   "mimetype": "text/x-python",
   "name": "python",
   "nbconvert_exporter": "python",
   "pygments_lexer": "ipython3",
   "version": "3.11.4"
  },
  "orig_nbformat": 4
 },
 "nbformat": 4,
 "nbformat_minor": 2
}
