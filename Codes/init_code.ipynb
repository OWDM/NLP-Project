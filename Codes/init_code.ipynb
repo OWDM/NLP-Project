{
 "cells": [
  {
   "cell_type": "code",
   "execution_count": 2,
   "metadata": {},
   "outputs": [],
   "source": [
    "import pandas as pd\n"
   ]
  },
  {
   "cell_type": "code",
   "execution_count": 3,
   "metadata": {},
   "outputs": [
    {
     "data": {
      "text/html": [
       "<div>\n",
       "<style scoped>\n",
       "    .dataframe tbody tr th:only-of-type {\n",
       "        vertical-align: middle;\n",
       "    }\n",
       "\n",
       "    .dataframe tbody tr th {\n",
       "        vertical-align: top;\n",
       "    }\n",
       "\n",
       "    .dataframe thead th {\n",
       "        text-align: right;\n",
       "    }\n",
       "</style>\n",
       "<table border=\"1\" class=\"dataframe\">\n",
       "  <thead>\n",
       "    <tr style=\"text-align: right;\">\n",
       "      <th></th>\n",
       "      <th>label</th>\n",
       "      <th>text</th>\n",
       "    </tr>\n",
       "  </thead>\n",
       "  <tbody>\n",
       "    <tr>\n",
       "      <th>0</th>\n",
       "      <td>Positive</td>\n",
       "      <td>ممتاز نوعا ما . النظافة والموقع والتجهيز والشا...</td>\n",
       "    </tr>\n",
       "    <tr>\n",
       "      <th>1</th>\n",
       "      <td>Positive</td>\n",
       "      <td>أحد أسباب نجاح الإمارات أن كل شخص في هذه الدول...</td>\n",
       "    </tr>\n",
       "    <tr>\n",
       "      <th>2</th>\n",
       "      <td>Positive</td>\n",
       "      <td>هادفة .. وقوية. تنقلك من صخب شوارع القاهرة الى...</td>\n",
       "    </tr>\n",
       "    <tr>\n",
       "      <th>3</th>\n",
       "      <td>Positive</td>\n",
       "      <td>خلصنا .. مبدئيا اللي مستني ابهار زي الفيل الاز...</td>\n",
       "    </tr>\n",
       "    <tr>\n",
       "      <th>4</th>\n",
       "      <td>Positive</td>\n",
       "      <td>ياسات جلوريا جزء لا يتجزأ من دبي . فندق متكامل...</td>\n",
       "    </tr>\n",
       "    <tr>\n",
       "      <th>5</th>\n",
       "      <td>Positive</td>\n",
       "      <td>أسلوب الكاتب رائع جدا و عميق جدا، قرأته عدة مر...</td>\n",
       "    </tr>\n",
       "    <tr>\n",
       "      <th>6</th>\n",
       "      <td>Positive</td>\n",
       "      <td>استثنائي. الهدوء في الجناح مع مسبح. عدم وجود ع...</td>\n",
       "    </tr>\n",
       "    <tr>\n",
       "      <th>7</th>\n",
       "      <td>Positive</td>\n",
       "      <td>الكتاب هو السيرة الذاتية للحداثة في المملكة بل...</td>\n",
       "    </tr>\n",
       "    <tr>\n",
       "      <th>8</th>\n",
       "      <td>Positive</td>\n",
       "      <td>من أجمل ما قرأت.. رواية تستحق القراءة فعلا..</td>\n",
       "    </tr>\n",
       "    <tr>\n",
       "      <th>9</th>\n",
       "      <td>Positive</td>\n",
       "      <td>بشكل عام جيده .. . التجاوب جيد جدا من قبل موظف...</td>\n",
       "    </tr>\n",
       "  </tbody>\n",
       "</table>\n",
       "</div>"
      ],
      "text/plain": [
       "      label                                               text\n",
       "0  Positive  ممتاز نوعا ما . النظافة والموقع والتجهيز والشا...\n",
       "1  Positive  أحد أسباب نجاح الإمارات أن كل شخص في هذه الدول...\n",
       "2  Positive  هادفة .. وقوية. تنقلك من صخب شوارع القاهرة الى...\n",
       "3  Positive  خلصنا .. مبدئيا اللي مستني ابهار زي الفيل الاز...\n",
       "4  Positive  ياسات جلوريا جزء لا يتجزأ من دبي . فندق متكامل...\n",
       "5  Positive  أسلوب الكاتب رائع جدا و عميق جدا، قرأته عدة مر...\n",
       "6  Positive  استثنائي. الهدوء في الجناح مع مسبح. عدم وجود ع...\n",
       "7  Positive  الكتاب هو السيرة الذاتية للحداثة في المملكة بل...\n",
       "8  Positive       من أجمل ما قرأت.. رواية تستحق القراءة فعلا..\n",
       "9  Positive  بشكل عام جيده .. . التجاوب جيد جدا من قبل موظف..."
      ]
     },
     "execution_count": 3,
     "metadata": {},
     "output_type": "execute_result"
    }
   ],
   "source": [
    "import pandas as pd\n",
    "\n",
    "df = pd.read_csv('C:\\\\Users\\\\Musae\\\\Documents\\\\GitHub-REPOs\\\\NLP-Project\\\\data\\\\ar_reviews_100k.tsv',sep='\\t')\n",
    "df.head(10)"
   ]
  },
  {
   "cell_type": "code",
   "execution_count": 4,
   "metadata": {},
   "outputs": [
    {
     "name": "stdout",
     "output_type": "stream",
     "text": [
      "Index(['label', 'text'], dtype='object')\n"
     ]
    }
   ],
   "source": [
    "print(df.columns)\n"
   ]
  },
  {
   "cell_type": "code",
   "execution_count": 5,
   "metadata": {},
   "outputs": [
    {
     "name": "stdout",
     "output_type": "stream",
     "text": [
      "the total number of reviews: 99999\n",
      "the number of reviews by sentiment:\n",
      "label\n",
      "Positive    33333\n",
      "Mixed       33333\n",
      "Negative    33333\n",
      "Name: count, dtype: int64\n",
      "the average review length: 297.53 characters\n"
     ]
    }
   ],
   "source": [
    "review_count = df.shape[0]\n",
    "sentiment_counts = df['label'].value_counts()\n",
    "average_length = df['text'].apply(len).mean()\n",
    "\n",
    "print(f\"the total number of reviews: {review_count}\")\n",
    "print(\"the number of reviews by sentiment:\")\n",
    "print(sentiment_counts)\n",
    "print(f\"the average review length: {average_length:.2f} characters\")"
   ]
  },
  {
   "cell_type": "markdown",
   "metadata": {},
   "source": [
    "## Rule-Based"
   ]
  },
  {
   "cell_type": "code",
   "execution_count": 6,
   "metadata": {},
   "outputs": [
    {
     "name": "stdout",
     "output_type": "stream",
     "text": [
      "Collecting nltk\n",
      "  Using cached nltk-3.8.1-py3-none-any.whl.metadata (2.8 kB)\n",
      "Requirement already satisfied: click in c:\\users\\musae\\appdata\\local\\programs\\python\\python311\\lib\\site-packages (from nltk) (8.1.7)\n",
      "Requirement already satisfied: joblib in c:\\users\\musae\\appdata\\local\\programs\\python\\python311\\lib\\site-packages (from nltk) (1.3.2)\n",
      "Collecting regex>=2021.8.3 (from nltk)\n",
      "  Downloading regex-2024.5.10-cp311-cp311-win_amd64.whl.metadata (41 kB)\n",
      "     ---------------------------------------- 0.0/42.0 kB ? eta -:--:--\n",
      "     --------------------------- ---------- 30.7/42.0 kB 660.6 kB/s eta 0:00:01\n",
      "     -------------------------------------- 42.0/42.0 kB 406.8 kB/s eta 0:00:00\n",
      "Requirement already satisfied: tqdm in c:\\users\\musae\\appdata\\local\\programs\\python\\python311\\lib\\site-packages (from nltk) (4.66.1)\n",
      "Requirement already satisfied: colorama in c:\\users\\musae\\appdata\\roaming\\python\\python311\\site-packages (from click->nltk) (0.4.6)\n",
      "Using cached nltk-3.8.1-py3-none-any.whl (1.5 MB)\n",
      "Downloading regex-2024.5.10-cp311-cp311-win_amd64.whl (268 kB)\n",
      "   ---------------------------------------- 0.0/269.0 kB ? eta -:--:--\n",
      "   ------- -------------------------------- 51.2/269.0 kB 2.6 MB/s eta 0:00:01\n",
      "   ------- -------------------------------- 51.2/269.0 kB 2.6 MB/s eta 0:00:01\n",
      "   -------------- ----------------------- 102.4/269.0 kB 837.8 kB/s eta 0:00:01\n",
      "   ----------------------- -------------- 163.8/269.0 kB 978.3 kB/s eta 0:00:01\n",
      "   ------------------------------ --------- 204.8/269.0 kB 1.0 MB/s eta 0:00:01\n",
      "   --------------------------------- ---- 235.5/269.0 kB 901.1 kB/s eta 0:00:01\n",
      "   -------------------------------------- 269.0/269.0 kB 917.5 kB/s eta 0:00:00\n",
      "Installing collected packages: regex, nltk\n",
      "Successfully installed nltk-3.8.1 regex-2024.5.10\n"
     ]
    }
   ],
   "source": [
    "!pip install nltk"
   ]
  },
  {
   "cell_type": "code",
   "execution_count": 14,
   "metadata": {},
   "outputs": [
    {
     "name": "stderr",
     "output_type": "stream",
     "text": [
      "[nltk_data] Downloading package punkt to\n",
      "[nltk_data]     C:\\Users\\Musae\\AppData\\Roaming\\nltk_data...\n",
      "[nltk_data]   Unzipping tokenizers\\punkt.zip.\n"
     ]
    },
    {
     "data": {
      "text/plain": [
       "True"
      ]
     },
     "execution_count": 14,
     "metadata": {},
     "output_type": "execute_result"
    }
   ],
   "source": [
    "import pandas as pd\n",
    "import nltk\n",
    "from nltk.tokenize import word_tokenize\n",
    "nltk.download('punkt')"
   ]
  },
  {
   "cell_type": "code",
   "execution_count": 18,
   "metadata": {},
   "outputs": [
    {
     "name": "stderr",
     "output_type": "stream",
     "text": [
      "[nltk_data] Downloading package stopwords to\n",
      "[nltk_data]     C:\\Users\\Musae\\AppData\\Roaming\\nltk_data...\n"
     ]
    },
    {
     "name": "stdout",
     "output_type": "stream",
     "text": [
      "['هذان', 'كل', 'لستم', 'آي', 'سوى', 'ليت', 'أ', 'إليكَ', 'شمال', 'قلما', 'سبعمئة', 'اربعون', 'إنه', 'إما', 'ست', 'وُشْكَانَ', 'سبحان', 'تسعمئة', 'هلم', 'عجبا', 'لكيلا', 'قطّ', 'ذه', 'ظنَّ', 'ولا', 'أو', 'ثلاثة', 'أسكن', 'أخبر', 'ضحوة', 'هذا', 'أفعل به', 'مافتئ', 'ذان', 'أهلا', 'اربعين', 'هي', 'خمس', 'ثمّة', 'تِه', 'تَيْنِ', 'وهو', 'تلكم', 'جميع', 'حدَث', 'أيار', 'حجا', 'سحقا', 'أوت', 'ما', 'أم', 'أنبأ', 'فيها', 'ماي', 'يفعلون', 'اثني', 'مئتان', 'أجمع', 'شتان', 'هاته', 'ارتدّ', 'هاتي', 'أخذ', 'عاشر', 'كي', 'ذا', 'إي', 'بي', 'مكانَك', 'ثمانمئة', 'أيّ', 'كليكما', 'ريث', 'ما برح', 'قام', 'كن', 'نحن', 'جمعة', 'عشرين', 'سبعين', 'هاهنا', 'خمسمئة', 'إلى', 'أنتِ', 'شَتَّانَ', 'ذو', 'مثل', 'منذ', 'خاصة', 'هَجْ', 'إليكن', 'إن', 'ه', 'بسّ', 'قاف', 'هاتين', 'فيفري', 'كانون', 'ثالث', 'آمينَ', 'أيضا', 'تفعلون', 'إنا', 'تعسا', 'حسب', 'ثمّ', 'ن', 'كثيرا', 'جويلية', 'أخو', 'ميم', 'كأي', 'مئة', 'خمسين', 'مازال', 'صبر', 'ما انفك', 'لستما', 'أضحى', 'هيا', 'تاسع', 'نحو', 'التي', 'طاء', 'بعدا', 'أنتن', 'تبدّل', 'إياك', 'أي', 'جوان', 'إذاً', 'حرى', 'آها', 'ثلاث', 'راء', 'ءَ', 'أما', 'هما', 'شيكل', 'إياكم', 'أفٍّ', 'فلان', 'هَيْهات', 'عشرة', 'ذانِ', 'ولو', 'لكي', 'فاء', 'ظاء', 'أُفٍّ', 'دال', 'مما', 'لبيك', 'مادام', 'بها', 'تين', 'تي', 'إياهن', 'سبعمائة', 'أبو', 'سبعة', 'فضلا', 'خلف', 'أكتوبر', 'هناك', 'بماذا', 'تسع', 'إذما', 'سادس', 'صباح', 'أمّا', 'هذين', 'به', 'كأيّ', 'أمام', 'مه', 'أنشأ', 'عشر', 'إياكن', 'لكم', 'ثمان', 'هَذا', 'لنا', 'أنت', 'هو', 'الآن', 'بعض', 'أولئك', 'ولكن', 'نيسان', 'كاد', 'كلا', 'عسى', 'حاء', 'إليكما', 'إذ', 'لعل', 'ثمانين', 'تموز', 'ذِي', 'سرعان', 'سمعا', 'لها', 'ذلكن', 'شين', 'زود', 'فوق', 'ئ', 'أطعم', 'لدن', 'ّأيّان', 'اتخذ', 'أصلا', 'ر', 'أنًّ', 'ثاء', 'سبتمبر', 'هبّ', 'أنتما', 'أربعاء', 'هنا', 'هَاتِي', 'ء', 'ذلكم', 'حيثما', 'قاطبة', 'أوّهْ', 'طفق', 'أعطى', 'عن', 'كرب', 'تانِك', 'إذن', 'مكانكنّ', 'أين', 'اللتيا', 'يناير', 'هكذا', 'ذال', 'و', 'بعد', 'اللتين', 'ليس', 'سوف', 'أصبح', 'نون', 'ترك', 'أى', 'دولار', 'حيث', 'مائة', 'بضع', 'اللائي', 'مليم', 'نيف', 'كأن', 'طرا', 'هن', 'مرّة', 'ط', 'أغسطس', 'ل', 'بهما', 'فبراير', 'طالما', 'وا', 'تانِ', 'طَق', 'كان', 'من', 'ألفى', 'ثلاثمائة', 'غ', 'بمن', 'قرش', 'غدا', 'لا', 'بكن', 'بلى', 'أمامكَ', 'أمسى', 'لعمر', 'هَذانِ', 'لهما', 'ثلاثاء', 'كلتا', 'كى', 'ابتدأ', 'كأيّن', 'ؤ', 'كاف', 'حيَّ', 'ة', 'سابع', 'تسعون', 'إياها', 'لست', 'واحد', 'حاشا', 'إحدى', 'أبدا', 'أوشك', 'مهما', 'كليهما', 'أف', 'خمسة', 'أقل', 'اللواتي', 'ظلّ', 'هل', 'حتى', 'أولاء', 'أرى', 'هيّا', 'ث', 'جير', 'على', 'غادر', 'لئن', 'هاك', 'هؤلاء', 'ستون', 'أيا', 'إياهم', 'بما', 'لكنما', 'ذَيْنِ', 'بيد', 'حزيران', 'ثمَّ', 'حقا', 'قد', 'خلافا', 'بات', 'تارة', 'هَاتانِ', 'فلا', 'هللة', 'يونيو', 'تشرين', 'بكم', 'واو', 'خبَّر', 'قبل', 'لو', 'إليك', 'يفعلان', 'ثامن', 'صاد', 'إمّا', 'اخلولق', 'انقلب', 'فإن', 'درهم', 'بَسْ', 'لوما', 'مارس', 'مذ', 'علًّ', 'خلا', 'ين', 'نَخْ', 'أوه', 'درى', 'ذواتي', 'أبريل', 'لما', 'لاسيما', 'لم', 'راح', 'وراءَك', 'م', 'أقبل', 'ح', 'اثنا', 'ما أفعله', 'اثنان', 'إياي', 'إزاء', 'ثمانون', 'أيّان', 'وَيْ', 'تسعمائة', 'غير', 'لستن', 'سبت', 'همزة', 'مكانكم', 'وإذا', 'عما', 'بطآن', 'أخٌ', 'علم', 'جانفي', 'بخٍ', 'أولالك', 'فيم', 'لسنا', 'اللذان', 'بهن', 'خاء', 'أنى', 'منها', 'فيما', 'خميس', 'آب', 'ماذا', 'لكن', 'الألى', 'متى', 'ذلكما', 'باء', 'تسعين', 'فمن', 'وهب', 'كِخ', 'عامة', 'ج', 'فإذا', 'إياه', 'إياهما', 'آ', 'لات', 'شبه', 'يمين', 'تفعلان', 'أنا', 'ليستا', 'هم', 'عل', 'والذي', 'يوان', 'يوليو', 'عين', 'ك', 'أل', 'شرع', 'اثنين', 'أمس', 'لعلَّ', 'ريال', 'أمد', 'عدَّ', 'ألف', 'أفريل', 'ساء', 'ظ', 'بَلْهَ', 'مايو', 'أيلول', 'كم', 'والذين', 'رابع', 'تاء', 'إيانا', 'ذات', 'خمسمائة', 'مساء', 'صار', 'اللاتي', 'صهْ', 'ذهب', 'رزق', 'لولا', 'حادي', 'أنتم', 'تجاه', 'كما', 'إنما', 'ذانك', 'خ', 'إليكنّ', 'ليسوا', 'جنيه', 'إلا', 'ذلك', 'هَاتَيْنِ', 'يا', 'سين', 'كأنّ', 'ها', 'لكما', 'عدا', 'جعل', 'أينما', 'حين', 'تحوّل', 'تينك', 'نا', 'كذلك', 'آض', 'إليكم', 'إلَيْكَ', 'ب', 'كسا', 'كلما', 'أمامك', 'سنتيم', 'عليه', 'كيف', 'لام', 'أيها', 'ستمئة', 'كيت', 'هلا', 'ممن', 'معاذ', 'دينار', 'رجع', 'ثماني', 'رُبَّ', 'صدقا', 'فو', 'ته', 'ثلاثين', 'الذين', 'عَدَسْ', 'ذين', 'هَذَيْنِ', 'ثمنمئة', 'رأى', 'ع', 'ذي', 'حمٌ', 'ق', 'تِي', 'هَذِي', 'جيم', 'ت', 'انبرى', 'بس', 'هيت', 'بين', 'عيانا', 'سبعون', 'صبرا', 'تسعة', 'ا', 'الذي', 'بهم', 'هنالك', 'ف', 'فيه', 'الألاء', 'ثاني', 'ص', 'عوض', 'فرادى', 'ض', 'آه', 'ثلاثمئة', 'ثمة', 'وإن', 'حار', 'ذوا', 'شتانَ', 'كلّما', 'حاي', 'ومن', 'لهم', 'لا سيما', 'ثان', 'لي', 'تلك', 'د', 'ذ', 'ستة', 'ضاد', 'ذاك', 'حَذارِ', 'حبذا', 'طاق', 'لكنَّ', 'أربعمائة', 'هاء', 'ثم', 'ليرة', 'هَؤلاء', 'إيهٍ', 'صهٍ', 'سبع', 'ليسا', 'إيه', 'هاكَ', 'هاتان', 'ستين', 'سقى', 'أول', 'بخ', 'خال', 'ذِه', 'ستمائة', 'زاي', 'أبٌ', 'تلقاء', 'في', 'غداة', 'دونك', 'نفس', 'يورو', 'لسن', 'كيفما', 'بكما', 'بك', 'هذه', 'ذيت', 'كأين', 'أنّى', 'أعلم', 'لن', 'آهاً', 'هَذِه', 'بنا', 'ليست', 'ورد', 'حبيب', 'خمسون', 'ش', 'آناء', 'زعم', 'واهاً', 'آنفا', 'إى', 'صراحة', 'علق', 'مع', 'كأنما', 'تحت', 'اللذين', 'إذا', 'نوفمبر', 'هيهات', 'جلل', 'لهن', 'إياكما', 'ثمانية', 'استحال', 'حمو', 'نَّ', 'أربع', 'عليك', 'بغتة', 'تلكما', 'سرا', 'ثلاثون', 'دواليك', 'هلّا', 'آذار', 'وما', 'مكانكما', 'عند', 'عاد', 'نبَّا', 'كذا', 'خامس', 'وإذ', 'ز', 'آهِ', 'ديسمبر', 'لمّا', 'حمدا', 'غين', 'ى', 'بئس', 'رويدك', 'أجل', 'تفعلين', 'تخذ', 'كلاهما', 'آهٍ', 'ذينك', 'إلّا', 'لدى', 'س', 'أحد', 'اللتان', 'بل', 'أن', 'هَاتِه', 'ي', 'ياء', 'دون', 'أكثر', 'له', 'نعم', 'هذي', 'أربعة', 'ذواتا', 'بؤسا', 'وجد', 'منه', 'شباط', 'تعلَّم', 'لك', 'فلس', 'عشرون', 'أربعمئة', 'غالبا', 'ألا', 'إنَّ', 'كلَّا']\n"
     ]
    },
    {
     "name": "stderr",
     "output_type": "stream",
     "text": [
      "[nltk_data]   Unzipping corpora\\stopwords.zip.\n"
     ]
    }
   ],
   "source": [
    "from nltk.corpus import stopwords\n",
    "nltk.download('stopwords')\n",
    "stop_words = list(set(stopwords.words('arabic')))\n",
    "print(stop_words)"
   ]
  },
  {
   "cell_type": "code",
   "execution_count": 19,
   "metadata": {},
   "outputs": [],
   "source": [
    "import re\n",
    "import string\n",
    "import sys\n",
    "import argparse\n",
    "from nltk.tokenize import word_tokenize\n",
    "\n",
    "arabic_punctuations = '''`÷×؛<>_()*&^%][ـ،/:\"؟.,'{}~¦+|!”…“–ـ'''\n",
    "english_punctuations = string.punctuation\n",
    "punctuations_list = arabic_punctuations + english_punctuations"
   ]
  },
  {
   "cell_type": "code",
   "execution_count": 15,
   "metadata": {},
   "outputs": [],
   "source": [
    "positive_keywords = {\n",
    "    'ممتاز', 'جيد', 'رائع', 'سعيد', 'لذيذ', 'مبهج', 'فرح', 'استثنائي', 'جميل', 'محبب', 'ممتع',\n",
    "    'مذهل', 'مريح', 'راض', 'أحب', 'استمتع', 'مفاجأة', 'مميز', 'لطيف', 'مرح', 'معجزة',\n",
    "    'ملهم', 'أسعد', 'خيالي', 'مذهل', 'فريد', 'هائل', 'راقي', 'أنيق', 'بهجة', 'مفيد',\n",
    "    'قيمة', 'بسيط', 'ناجح', 'موفق', 'مشجع', 'حسن', 'ظريف', 'محبوب', 'مبهر', 'إيجابي',\n",
    "    'تفاؤل', 'إعجاب', 'ممتن', 'شجاع', 'آمن', 'مثالي'\n",
    "}\n",
    "\n"
   ]
  },
  {
   "cell_type": "code",
   "execution_count": 16,
   "metadata": {},
   "outputs": [],
   "source": [
    "negative_keywords = {\n",
    "    'سيء', 'مخيب', 'حزين', 'مؤلم', 'كريه', 'قبيح', 'فشل', 'محبط', 'بشع', 'فظيع', 'مزعج', \n",
    "    'مروع', 'أسوأ', 'كره', 'كارثة', 'رعب', 'كئيب', 'مزعزع', 'اكتئاب', 'بائس', 'معقد', \n",
    "    'إحباط', 'تعب', 'مضجر', 'ممل', 'فضيحة', 'سلبي', 'كاذب', 'فظاظة', 'احتيال', 'احراج',\n",
    "    'بشع', 'تعيس', 'مستاء', 'مروع', 'مشؤوم', 'عداء', 'مزري', 'عنيف', 'غير كاف', 'غير صادق',\n",
    "    'ضعيف', 'متشائم', 'غاضب', 'غير مقبول', 'مروع'\n",
    "}\n"
   ]
  },
  {
   "cell_type": "code",
   "execution_count": 17,
   "metadata": {},
   "outputs": [
    {
     "name": "stdout",
     "output_type": "stream",
     "text": [
      "Predicted sentiment counts:\n",
      "predicted_label\n",
      "Mixed       60583\n",
      "Positive    29940\n",
      "Negative     9476\n",
      "Name: count, dtype: int64\n"
     ]
    }
   ],
   "source": [
    "def rule_based_classifier(text):\n",
    "    words = set(word_tokenize(text))\n",
    "    positive_score = sum(1 for word in words if word in positive_keywords)\n",
    "    negative_score = sum(1 for word in words if word in negative_keywords)\n",
    "    \n",
    "    if positive_score > negative_score:\n",
    "        return 'Positive'\n",
    "    elif negative_score > positive_score:\n",
    "        return 'Negative'\n",
    "    else:\n",
    "        return 'Mixed'\n",
    "\n",
    "# Apply the classifier to a subset of the data\n",
    "df['predicted_label'] = df['text'].apply(rule_based_classifier)\n",
    "\n",
    "# Evaluate the classifier\n",
    "predicted_counts = df['predicted_label'].value_counts()\n",
    "\n",
    "print(\"Predicted sentiment counts:\")\n",
    "print(predicted_counts)"
   ]
  }
 ],
 "metadata": {
  "kernelspec": {
   "display_name": "Python 3",
   "language": "python",
   "name": "python3"
  },
  "language_info": {
   "codemirror_mode": {
    "name": "ipython",
    "version": 3
   },
   "file_extension": ".py",
   "mimetype": "text/x-python",
   "name": "python",
   "nbconvert_exporter": "python",
   "pygments_lexer": "ipython3",
   "version": "3.11.4"
  },
  "orig_nbformat": 4
 },
 "nbformat": 4,
 "nbformat_minor": 2
}
