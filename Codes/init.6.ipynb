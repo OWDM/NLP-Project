{
 "cells": [
  {
   "cell_type": "code",
   "execution_count": 1,
   "metadata": {},
   "outputs": [],
   "source": [
    "import pandas as pd\n",
    "import nltk\n",
    "from nltk.corpus import stopwords\n",
    "from nltk.tokenize import word_tokenize\n",
    "import string\n",
    "import re\n",
    "\n"
   ]
  },
  {
   "cell_type": "code",
   "execution_count": 2,
   "metadata": {},
   "outputs": [
    {
     "name": "stderr",
     "output_type": "stream",
     "text": [
      "[nltk_data] Downloading package stopwords to\n",
      "[nltk_data]     C:\\Users\\Musae\\AppData\\Roaming\\nltk_data...\n",
      "[nltk_data]   Package stopwords is already up-to-date!\n"
     ]
    }
   ],
   "source": [
    "# Load dataset\n",
    "df = pd.read_csv('C:\\\\Users\\\\Musae\\\\Documents\\\\GitHub-REPOs\\\\NLP-Project\\\\data\\\\ar_reviews_100k.tsv', sep='\\t')\n",
    "\n",
    "# Drop mixed labels and duplicates\n",
    "df = df[df['label'] != 'Mixed']\n",
    "df = df.drop_duplicates()\n",
    "\n",
    "# Download stopwords\n",
    "nltk.download('stopwords')\n",
    "stop_words = set(stopwords.words('arabic'))\n",
    "\n",
    "# Define punctuations\n",
    "arabic_punctuations = '''`÷×؛<>_()*&^%][ـ،/:\"؟.,'{}~¦+|!”…“–ـ'''\n",
    "english_punctuations = string.punctuation\n",
    "punctuations_list = arabic_punctuations + english_punctuations\n",
    "\n"
   ]
  },
  {
   "cell_type": "code",
   "execution_count": 3,
   "metadata": {},
   "outputs": [
    {
     "name": "stdout",
     "output_type": "stream",
     "text": [
      "46666 46666\n",
      "20000 20000\n"
     ]
    }
   ],
   "source": [
    "# Function to remove diacritics\n",
    "def remove_diacritics(text):\n",
    "    arabic_diacritics = re.compile(\"\"\"\n",
    "        ّ|َ|ً|ُ|ٌ|ِ|ٍ|ْ|ـ\n",
    "    \"\"\", re.VERBOSE)\n",
    "    return re.sub(arabic_diacritics, '', text)\n",
    "\n",
    "# Function to remove emojis\n",
    "def remove_emoji(text):\n",
    "    regrex_pattern = re.compile(pattern = \"[\"\n",
    "        u\"\\U0001F600-\\U0001F64F\"  # emoticons\n",
    "        u\"\\U0001F300-\\U0001F5FF\"  # symbols & pictographs\n",
    "        u\"\\U0001F680-\\U0001F6FF\"  # transport & map symbols\n",
    "        u\"\\U0001F1E0-\\U0001F1FF\"  # flags (iOS)\n",
    "    \"]+\", flags = re.UNICODE)\n",
    "    return regrex_pattern.sub(r'', text)\n",
    "\n",
    "# Function to clean text\n",
    "def clean_text(text):\n",
    "    text = \"\".join([char for char in text if char not in punctuations_list])\n",
    "    text = remove_emoji(text)\n",
    "    text = remove_diacritics(text)\n",
    "    tokens = word_tokenize(text)\n",
    "    text = ' '.join([word for word in tokens if word not in stop_words])\n",
    "    return text\n",
    "\n",
    "# Apply text cleaning\n",
    "df['cleanedtext'] = df['text'].apply(clean_text)\n",
    "\n",
    "# Function to process text (stemming)\n",
    "def process_text(text):\n",
    "    stemmer = nltk.ISRIStemmer()\n",
    "    tokens = word_tokenize(text)\n",
    "    stemmed_tokens = [stemmer.stem(token) for token in tokens]\n",
    "    return ' '.join(stemmed_tokens)\n",
    "\n",
    "# Apply text processing\n",
    "df['cleanedtextnew'] = df['cleanedtext'].apply(process_text)\n",
    "\n",
    "# Split data into train and test sets\n",
    "from sklearn.model_selection import train_test_split\n",
    "x = df['cleanedtextnew']\n",
    "y = df['label']\n",
    "x_train, x_test, y_train, y_test = train_test_split(x, y, test_size=0.3, random_state=42)\n",
    "\n",
    "# Print data sizes\n",
    "print(len(x_train), len(y_train))\n",
    "print(len(x_test), len(y_test))"
   ]
  },
  {
   "cell_type": "code",
   "execution_count": 4,
   "metadata": {},
   "outputs": [
    {
     "name": "stdout",
     "output_type": "stream",
     "text": [
      "Requirement already satisfied: lazypredict in c:\\users\\musae\\appdata\\local\\programs\\python\\python311\\lib\\site-packages (0.2.12)\n",
      "Requirement already satisfied: click in c:\\users\\musae\\appdata\\local\\programs\\python\\python311\\lib\\site-packages (from lazypredict) (8.1.7)\n",
      "Requirement already satisfied: scikit-learn in c:\\users\\musae\\appdata\\local\\programs\\python\\python311\\lib\\site-packages (from lazypredict) (1.3.1)\n",
      "Requirement already satisfied: pandas in c:\\users\\musae\\appdata\\local\\programs\\python\\python311\\lib\\site-packages (from lazypredict) (2.2.1)\n",
      "Requirement already satisfied: tqdm in c:\\users\\musae\\appdata\\local\\programs\\python\\python311\\lib\\site-packages (from lazypredict) (4.66.1)\n",
      "Requirement already satisfied: joblib in c:\\users\\musae\\appdata\\local\\programs\\python\\python311\\lib\\site-packages (from lazypredict) (1.3.2)\n",
      "Requirement already satisfied: lightgbm in c:\\users\\musae\\appdata\\local\\programs\\python\\python311\\lib\\site-packages (from lazypredict) (4.3.0)\n",
      "Requirement already satisfied: xgboost in c:\\users\\musae\\appdata\\local\\programs\\python\\python311\\lib\\site-packages (from lazypredict) (2.0.3)\n",
      "Requirement already satisfied: colorama in c:\\users\\musae\\appdata\\roaming\\python\\python311\\site-packages (from click->lazypredict) (0.4.6)\n",
      "Requirement already satisfied: numpy in c:\\users\\musae\\appdata\\local\\programs\\python\\python311\\lib\\site-packages (from lightgbm->lazypredict) (1.25.0)\n",
      "Requirement already satisfied: scipy in c:\\users\\musae\\appdata\\local\\programs\\python\\python311\\lib\\site-packages (from lightgbm->lazypredict) (1.11.2)\n",
      "Requirement already satisfied: python-dateutil>=2.8.2 in c:\\users\\musae\\appdata\\local\\programs\\python\\python311\\lib\\site-packages (from pandas->lazypredict) (2.8.2)\n",
      "Requirement already satisfied: pytz>=2020.1 in c:\\users\\musae\\appdata\\local\\programs\\python\\python311\\lib\\site-packages (from pandas->lazypredict) (2024.1)\n",
      "Requirement already satisfied: tzdata>=2022.7 in c:\\users\\musae\\appdata\\local\\programs\\python\\python311\\lib\\site-packages (from pandas->lazypredict) (2024.1)\n",
      "Requirement already satisfied: threadpoolctl>=2.0.0 in c:\\users\\musae\\appdata\\local\\programs\\python\\python311\\lib\\site-packages (from scikit-learn->lazypredict) (3.2.0)\n",
      "Requirement already satisfied: six>=1.5 in c:\\users\\musae\\appdata\\local\\programs\\python\\python311\\lib\\site-packages (from python-dateutil>=2.8.2->pandas->lazypredict) (1.16.0)\n"
     ]
    }
   ],
   "source": [
    "# Install LazyPredict if you haven't already\n",
    "!pip install lazypredict"
   ]
  },
  {
   "cell_type": "code",
   "execution_count": 5,
   "metadata": {},
   "outputs": [],
   "source": [
    "# Vectorization\n",
    "from sklearn.feature_extraction.text import TfidfVectorizer\n",
    "\n",
    "vectorizer = TfidfVectorizer(max_features=5000)\n",
    "x_train_tfidf = vectorizer.fit_transform(x_train)\n",
    "x_test_tfidf = vectorizer.transform(x_test)"
   ]
  }
 ],
 "metadata": {
  "kernelspec": {
   "display_name": "Python 3",
   "language": "python",
   "name": "python3"
  },
  "language_info": {
   "codemirror_mode": {
    "name": "ipython",
    "version": 3
   },
   "file_extension": ".py",
   "mimetype": "text/x-python",
   "name": "python",
   "nbconvert_exporter": "python",
   "pygments_lexer": "ipython3",
   "version": "3.11.4"
  },
  "orig_nbformat": 4
 },
 "nbformat": 4,
 "nbformat_minor": 2
}
