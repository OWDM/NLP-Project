{
 "cells": [
  {
   "cell_type": "code",
   "execution_count": 1,
   "metadata": {},
   "outputs": [],
   "source": [
    "import pandas as pd\n",
    "import nltk\n",
    "from nltk.corpus import stopwords\n",
    "from nltk.tokenize import word_tokenize\n",
    "import string\n",
    "import re\n",
    "\n"
   ]
  },
  {
   "cell_type": "code",
   "execution_count": 2,
   "metadata": {},
   "outputs": [
    {
     "name": "stderr",
     "output_type": "stream",
     "text": [
      "[nltk_data] Downloading package stopwords to\n",
      "[nltk_data]     C:\\Users\\Musae\\AppData\\Roaming\\nltk_data...\n",
      "[nltk_data]   Package stopwords is already up-to-date!\n"
     ]
    }
   ],
   "source": [
    "# Load dataset\n",
    "df = pd.read_csv('C:\\\\Users\\\\Musae\\\\Documents\\\\GitHub-REPOs\\\\NLP-Project\\\\data\\\\ar_reviews_100k.tsv', sep='\\t')\n",
    "\n",
    "# Drop mixed labels and duplicates\n",
    "df = df[df['label'] != 'Mixed']\n",
    "df = df.drop_duplicates()\n",
    "\n",
    "# Download stopwords\n",
    "nltk.download('stopwords')\n",
    "stop_words = set(stopwords.words('arabic'))\n",
    "\n",
    "# Define punctuations\n",
    "arabic_punctuations = '''`÷×؛<>_()*&^%][ـ،/:\"؟.,'{}~¦+|!”…“–ـ'''\n",
    "english_punctuations = string.punctuation\n",
    "punctuations_list = arabic_punctuations + english_punctuations\n",
    "\n"
   ]
  },
  {
   "cell_type": "code",
   "execution_count": 3,
   "metadata": {},
   "outputs": [
    {
     "name": "stdout",
     "output_type": "stream",
     "text": [
      "46666 46666\n",
      "20000 20000\n"
     ]
    }
   ],
   "source": [
    "# Function to remove diacritics\n",
    "def remove_diacritics(text):\n",
    "    arabic_diacritics = re.compile(\"\"\"\n",
    "        ّ|َ|ً|ُ|ٌ|ِ|ٍ|ْ|ـ\n",
    "    \"\"\", re.VERBOSE)\n",
    "    return re.sub(arabic_diacritics, '', text)\n",
    "\n",
    "# Function to remove emojis\n",
    "def remove_emoji(text):\n",
    "    regrex_pattern = re.compile(pattern = \"[\"\n",
    "        u\"\\U0001F600-\\U0001F64F\"  # emoticons\n",
    "        u\"\\U0001F300-\\U0001F5FF\"  # symbols & pictographs\n",
    "        u\"\\U0001F680-\\U0001F6FF\"  # transport & map symbols\n",
    "        u\"\\U0001F1E0-\\U0001F1FF\"  # flags (iOS)\n",
    "    \"]+\", flags = re.UNICODE)\n",
    "    return regrex_pattern.sub(r'', text)\n",
    "\n",
    "# Function to clean text\n",
    "def clean_text(text):\n",
    "    text = \"\".join([char for char in text if char not in punctuations_list])\n",
    "    text = remove_emoji(text)\n",
    "    text = remove_diacritics(text)\n",
    "    tokens = word_tokenize(text)\n",
    "    text = ' '.join([word for word in tokens if word not in stop_words])\n",
    "    return text\n",
    "\n",
    "# Apply text cleaning\n",
    "df['cleanedtext'] = df['text'].apply(clean_text)\n",
    "\n",
    "# Function to process text (stemming)\n",
    "def process_text(text):\n",
    "    stemmer = nltk.ISRIStemmer()\n",
    "    tokens = word_tokenize(text)\n",
    "    stemmed_tokens = [stemmer.stem(token) for token in tokens]\n",
    "    return ' '.join(stemmed_tokens)\n",
    "\n",
    "# Apply text processing\n",
    "df['cleanedtextnew'] = df['cleanedtext'].apply(process_text)\n",
    "\n",
    "# Split data into train and test sets\n",
    "from sklearn.model_selection import train_test_split\n",
    "x = df['cleanedtextnew']\n",
    "y = df['label']\n",
    "x_train, x_test, y_train, y_test = train_test_split(x, y, test_size=0.3, random_state=42)\n",
    "\n",
    "# Print data sizes\n",
    "print(len(x_train), len(y_train))\n",
    "print(len(x_test), len(y_test))"
   ]
  },
  {
   "cell_type": "code",
   "execution_count": null,
   "metadata": {},
   "outputs": [],
   "source": [
    "# Vectorization and model training\n",
    "from sklearn.feature_extraction.text import TfidfVectorizer\n",
    "from sklearn.svm import SVC\n",
    "from sklearn.pipeline import make_pipeline\n",
    "\n",
    "vectorizer = TfidfVectorizer()\n",
    "clf = SVC(kernel='rbf')\n",
    "pipe = make_pipeline(vectorizer, clf)\n",
    "pipe.fit(x_train, y_train)\n",
    "\n",
    "# Predictions and evaluation\n",
    "y_pred = pipe.predict(x_test)\n",
    "from sklearn.metrics import accuracy_score, confusion_matrix\n",
    "print('Accuracy:', accuracy_score(y_test, y_pred))\n",
    "print('Confusion Matrix:\\n', confusion_matrix(y_test, y_pred))"
   ]
  },
  {
   "cell_type": "code",
   "execution_count": null,
   "metadata": {},
   "outputs": [],
   "source": [
    "from sklearn.linear_model import LogisticRegression\n",
    "from sklearn.pipeline import make_pipeline\n",
    "from sklearn.feature_extraction.text import TfidfVectorizer\n",
    "from sklearn.metrics import accuracy_score, confusion_matrix\n",
    "\n",
    "# Vectorization and Logistic Regression\n",
    "vectorizer = TfidfVectorizer()\n",
    "clf_lr = LogisticRegression()\n",
    "\n",
    "pipe_lr = make_pipeline(vectorizer, clf_lr)\n",
    "pipe_lr.fit(x_train, y_train)\n",
    "\n",
    "# Predictions and evaluation\n",
    "y_pred_lr = pipe_lr.predict(x_test)\n",
    "print('Logistic Regression Accuracy:', accuracy_score(y_test, y_pred_lr))\n",
    "print('Logistic Regression Confusion Matrix:\\n', confusion_matrix(y_test, y_pred_lr))\n"
   ]
  },
  {
   "cell_type": "code",
   "execution_count": null,
   "metadata": {},
   "outputs": [],
   "source": [
    "from sklearn.ensemble import RandomForestClassifier\n",
    "from sklearn.pipeline import make_pipeline\n",
    "from sklearn.feature_extraction.text import TfidfVectorizer\n",
    "from sklearn.metrics import accuracy_score, confusion_matrix\n",
    "\n",
    "# Vectorization and Random Forest\n",
    "vectorizer = TfidfVectorizer()\n",
    "clf_rf = RandomForestClassifier()\n",
    "\n",
    "pipe_rf = make_pipeline(vectorizer, clf_rf)\n",
    "pipe_rf.fit(x_train, y_train)\n",
    "\n",
    "# Predictions and evaluation\n",
    "y_pred_rf = pipe_rf.predict(x_test)\n",
    "print('Random Forest Accuracy:', accuracy_score(y_test, y_pred_rf))\n",
    "print('Random Forest Confusion Matrix:\\n', confusion_matrix(y_test, y_pred_rf))\n"
   ]
  },
  {
   "cell_type": "code",
   "execution_count": null,
   "metadata": {},
   "outputs": [],
   "source": [
    "from sklearn.naive_bayes import MultinomialNB\n",
    "from sklearn.pipeline import make_pipeline\n",
    "from sklearn.feature_extraction.text import TfidfVectorizer\n",
    "from sklearn.metrics import accuracy_score, confusion_matrix\n",
    "\n",
    "# Vectorization and Naive Bayes\n",
    "vectorizer = TfidfVectorizer()\n",
    "clf_nb = MultinomialNB()\n",
    "\n",
    "pipe_nb = make_pipeline(vectorizer, clf_nb)\n",
    "pipe_nb.fit(x_train, y_train)\n",
    "\n",
    "# Predictions and evaluation\n",
    "y_pred_nb = pipe_nb.predict(x_test)\n",
    "print('Naive Bayes Accuracy:', accuracy_score(y_test, y_pred_nb))\n",
    "print('Naive Bayes Confusion Matrix:\\n', confusion_matrix(y_test, y_pred_nb))\n"
   ]
  }
 ],
 "metadata": {
  "kernelspec": {
   "display_name": "Python 3",
   "language": "python",
   "name": "python3"
  },
  "language_info": {
   "codemirror_mode": {
    "name": "ipython",
    "version": 3
   },
   "file_extension": ".py",
   "mimetype": "text/x-python",
   "name": "python",
   "nbconvert_exporter": "python",
   "pygments_lexer": "ipython3",
   "version": "3.11.4"
  },
  "orig_nbformat": 4
 },
 "nbformat": 4,
 "nbformat_minor": 2
}
