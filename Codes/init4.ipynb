{
 "cells": [
  {
   "cell_type": "code",
   "execution_count": 1,
   "metadata": {},
   "outputs": [],
   "source": [
    "import pandas as pd"
   ]
  },
  {
   "cell_type": "code",
   "execution_count": 2,
   "metadata": {},
   "outputs": [
    {
     "data": {
      "text/html": [
       "<div>\n",
       "<style scoped>\n",
       "    .dataframe tbody tr th:only-of-type {\n",
       "        vertical-align: middle;\n",
       "    }\n",
       "\n",
       "    .dataframe tbody tr th {\n",
       "        vertical-align: top;\n",
       "    }\n",
       "\n",
       "    .dataframe thead th {\n",
       "        text-align: right;\n",
       "    }\n",
       "</style>\n",
       "<table border=\"1\" class=\"dataframe\">\n",
       "  <thead>\n",
       "    <tr style=\"text-align: right;\">\n",
       "      <th></th>\n",
       "      <th>label</th>\n",
       "      <th>text</th>\n",
       "    </tr>\n",
       "  </thead>\n",
       "  <tbody>\n",
       "    <tr>\n",
       "      <th>0</th>\n",
       "      <td>Positive</td>\n",
       "      <td>ممتاز نوعا ما . النظافة والموقع والتجهيز والشا...</td>\n",
       "    </tr>\n",
       "    <tr>\n",
       "      <th>1</th>\n",
       "      <td>Positive</td>\n",
       "      <td>أحد أسباب نجاح الإمارات أن كل شخص في هذه الدول...</td>\n",
       "    </tr>\n",
       "    <tr>\n",
       "      <th>2</th>\n",
       "      <td>Positive</td>\n",
       "      <td>هادفة .. وقوية. تنقلك من صخب شوارع القاهرة الى...</td>\n",
       "    </tr>\n",
       "    <tr>\n",
       "      <th>3</th>\n",
       "      <td>Positive</td>\n",
       "      <td>خلصنا .. مبدئيا اللي مستني ابهار زي الفيل الاز...</td>\n",
       "    </tr>\n",
       "    <tr>\n",
       "      <th>4</th>\n",
       "      <td>Positive</td>\n",
       "      <td>ياسات جلوريا جزء لا يتجزأ من دبي . فندق متكامل...</td>\n",
       "    </tr>\n",
       "  </tbody>\n",
       "</table>\n",
       "</div>"
      ],
      "text/plain": [
       "      label                                               text\n",
       "0  Positive  ممتاز نوعا ما . النظافة والموقع والتجهيز والشا...\n",
       "1  Positive  أحد أسباب نجاح الإمارات أن كل شخص في هذه الدول...\n",
       "2  Positive  هادفة .. وقوية. تنقلك من صخب شوارع القاهرة الى...\n",
       "3  Positive  خلصنا .. مبدئيا اللي مستني ابهار زي الفيل الاز...\n",
       "4  Positive  ياسات جلوريا جزء لا يتجزأ من دبي . فندق متكامل..."
      ]
     },
     "execution_count": 2,
     "metadata": {},
     "output_type": "execute_result"
    }
   ],
   "source": [
    "df = pd.read_csv('C:\\\\Users\\\\Musae\\\\Documents\\\\GitHub-REPOs\\\\NLP-Project\\\\data\\\\ar_reviews_100k.tsv', sep='\\t')\n",
    "df.head()\n"
   ]
  },
  {
   "cell_type": "code",
   "execution_count": 3,
   "metadata": {},
   "outputs": [
    {
     "data": {
      "text/plain": [
       "label    0\n",
       "text     0\n",
       "dtype: int64"
      ]
     },
     "execution_count": 3,
     "metadata": {},
     "output_type": "execute_result"
    }
   ],
   "source": [
    "df.isnull().sum()\n"
   ]
  },
  {
   "cell_type": "code",
   "execution_count": 4,
   "metadata": {},
   "outputs": [
    {
     "data": {
      "text/plain": [
       "label\n",
       "Positive    33333\n",
       "Mixed       33333\n",
       "Negative    33333\n",
       "Name: count, dtype: int64"
      ]
     },
     "execution_count": 4,
     "metadata": {},
     "output_type": "execute_result"
    }
   ],
   "source": [
    "df['label'].value_counts()\n"
   ]
  },
  {
   "cell_type": "code",
   "execution_count": 5,
   "metadata": {},
   "outputs": [],
   "source": [
    "df = df[df['label']!='Mixed']\n"
   ]
  },
  {
   "cell_type": "code",
   "execution_count": 6,
   "metadata": {},
   "outputs": [
    {
     "data": {
      "text/plain": [
       "0"
      ]
     },
     "execution_count": 6,
     "metadata": {},
     "output_type": "execute_result"
    }
   ],
   "source": [
    "df.duplicated().sum()\n"
   ]
  },
  {
   "cell_type": "code",
   "execution_count": 7,
   "metadata": {},
   "outputs": [
    {
     "name": "stdout",
     "output_type": "stream",
     "text": [
      "['مادام', 'خميس', 'أي', 'لعمر', 'اللتيا', 'له', 'دال', 'دونك', 'نيف', 'سرعان', 'إياهن', 'ثلاثين', 'الألاء', 'حبيب', 'عدَّ', 'أوّهْ', 'كلاهما', 'غدا', 'أنتن', 'ذلك', 'إمّا', 'شبه', 'ذلكم', 'خمس', 'تارة', 'تين', 'وجد', 'طالما', 'رابع', 'هاكَ', 'نيسان', 'حَذارِ', 'نَّ', 'ضاد', 'طاق', 'نعم', 'هن', 'أف', 'أما', 'خلف', 'ذه', 'هَاتَيْنِ', 'ترك', 'ارتدّ', 'جوان', 'نوفمبر', 'ين', 'وإذ', 'لكنَّ', 'سبعة', 'ذينك', 'تسعين', 'و', 'تسعة', 'أنتم', 'أبريل', 'إياهما', 'إياي', 'ثان', 'ولو', 'أفٍّ', 'سحقا', 'هذي', 'أ', 'أربعاء', 'إيهٍ', 'مئة', 'كل', 'خال', 'ذين', 'هنالك', 'ستة', 'يونيو', 'لو', 'كلا', 'مه', 'كاد', 'حين', 'صبر', 'بكما', 'آهِ', 'حاشا', 'ستين', 'أولالك', 'صبرا', 'كيفما', 'أولئك', 'إذما', 'كاف', 'إياه', 'هؤلاء', 'إليكما', 'وإن', 'فاء', 'عدا', 'ذي', 'هَذا', 'عسى', 'رزق', 'خاصة', 'أيّان', 'م', 'الذين', 'ليست', 'لي', 'الألى', 'تسع', 'ع', 'هيهات', 'آض', 'مما', 'أيها', 'تحت', 'فلا', 'لا سيما', 'تشرين', 'إى', 'سرا', 'مساء', 'أفريل', 'أمد', 'ظلّ', 'ما أفعله', 'تفعلان', 'ته', 'إن', 'ث', 'آهٍ', 'حجا', 'خلافا', 'مكانكما', 'ابتدأ', 'وإذا', 'حادي', 'آمينَ', 'جويلية', 'ولكن', 'كلما', 'سبعمئة', 'آها', 'كثيرا', 'أمس', 'آنفا', 'اللتان', 'لوما', 'هيا', 'ذواتي', 'هَاتِي', 'فوق', 'إنه', 'أين', 'أنى', 'لكي', 'مكانَك', 'بهم', 'طرا', 'ليستا', 'ليرة', 'حسب', 'مثل', 'معاذ', 'كلّما', 'كم', 'أنشأ', 'ظ', 'مازال', 'س', 'مذ', 'ن', 'اثنا', 'ء', 'عند', 'ذلكما', 'ذات', 'تفعلين', 'زعم', 'هلا', 'ماذا', 'هلّا', 'ست', 'مائة', 'لهم', 'شمال', 'سبعون', 'حيث', 'لست', 'يناير', 'فيفري', 'كأيّ', 'حاء', 'صاد', 'ذلكن', 'حتى', 'ليسا', 'ليس', 'بخٍ', 'هنا', 'تلكم', 'تلقاء', 'يفعلون', 'بسّ', 'وهو', 'ثمنمئة', 'مرّة', 'ثلاثمائة', 'ميم', 'به', 'بعض', 'عشرين', 'بين', 'ّأيّان', 'تينك', 'ا', 'أوت', 'أحد', 'أول', 'ستمائة', 'ظنَّ', 'ذهب', 'شتانَ', 'ح', 'ة', 'غير', 'ط', 'لن', 'إياكن', 'جعل', 'إنَّ', 'أنتما', 'أيّ', 'دون', 'حمو', 'وراءَك', 'هل', 'هذان', 'أولاء', 'أقبل', 'طاء', 'تلك', 'هبّ', 'حمدا', 'أخٌ', 'إلى', 'أصبح', 'خمسين', 'عما', 'أكتوبر', 'آناء', 'أغسطس', 'ثامن', 'آذار', 'سنتيم', 'بس', 'إنما', 'شين', 'رويدك', 'أم', 'الآن', 'ستون', 'أيار', 'أصلا', 'لعل', 'أى', 'عل', 'ليسوا', 'لهما', 'ت', 'تسعمائة', 'سوى', 'تانِ', 'بطآن', 'سبعمائة', 'دينار', 'ش', 'لكم', 'ى', 'جميع', 'قلما', 'كان', 'وُشْكَانَ', 'سمعا', 'اللائي', 'خمسمئة', 'كى', 'عيانا', 'حقا', 'درى', 'خمسمائة', 'ثمانين', 'أوه', 'تِه', 'قطّ', 'استحال', 'إياها', 'إذ', 'انبرى', 'تاسع', 'ثاني', 'يوليو', 'ما انفك', 'حمٌ', 'مافتئ', 'لكما', 'هاتان', 'مهما', 'فبراير', 'اخلولق', 'راح', 'شيكل', 'هيّا', 'تانِك', 'كأين', 'كانون', 'لعلَّ', 'لكيلا', 'أربعمائة', 'ذواتا', 'نحن', 'ك', 'نا', 'أرى', 'هلم', 'بماذا', 'قرش', 'ذانِ', 'ثمّ', 'وَيْ', 'بضع', 'تعلَّم', 'هَيْهات', 'همزة', 'هو', 'سابع', 'بهما', 'ثمانية', 'كذلك', 'ئ', 'إليكنّ', 'أعطى', 'بكن', 'في', 'ثلاثون', 'ذاك', 'تبدّل', 'تلكما', 'ذو', 'لسن', 'كيف', 'كي', 'وهب', 'طفق', 'ق', 'نحو', 'أمامكَ', 'إما', 'هَجْ', 'ذَيْنِ', 'أعلم', 'أبدا', 'أقل', 'سقى', 'كِخ', 'ذ', 'منه', 'بنا', 'أُفٍّ', 'ياء', 'أينما', 'هاتي', 'بما', 'والذين', 'عن', 'ظاء', 'إذاً', 'بهن', 'حزيران', 'واو', 'أربعمئة', 'عاد', 'فضلا', 'صهٍ', 'مئتان', 'ولا', 'ثلاثة', 'هي', 'إليك', 'لبيك', 'عَدَسْ', 'واهاً', 'ذا', 'تسعمئة', 'ضحوة', 'إياكم', 'يا', 'مكانكنّ', 'جيم', 'كسا', 'عوض', 'بي', 'كما', 'ستمئة', 'ب', 'لئن', 'إيانا', 'وا', 'بئس', 'لها', 'إذا', 'حاي', 'اللذان', 'لك', 'بك', 'حار', 'ما', 'غادر', 'هما', 'كلَّا', 'هذا', 'ثمان', 'تسعون', 'سبت', 'اربعين', 'تاء', 'فإذا', 'عجبا', 'إي', 'كأي', 'تجاه', 'هَذِه', 'نَخْ', 'ثلاث', 'آب', 'جلل', 'أضحى', 'اللذين', 'درهم', 'ذان', 'عشرون', 'اللتين', 'بعدا', 'أنّى', 'بها', 'بغتة', 'سبعين', 'هاتين', 'مليم', 'فلس', 'أجمع', 'إياك', 'تِي', 'اثنين', 'ها', 'لستن', 'أبٌ', 'هكذا', 'ل', 'آهاً', 'خ', 'آه', 'بل', 'أيا', 'حبذا', 'أن', 'يورو', 'اتخذ', 'خمسون', 'لكن', 'فو', 'اثنان', 'ر', 'آ', 'رُبَّ', 'أمامك', 'ذوا', 'أيلول', 'فمن', 'هذين', 'بات', 'ذِي', 'زاي', 'فلان', 'خاء', 'منها', 'ذِه', 'ورد', 'كأنّ', 'ريث', 'تخذ', 'لات', 'باء', 'بَلْهَ', 'نون', 'ج', 'فيها', 'لدن', 'والذي', 'آي', 'سبتمبر', 'اللاتي', 'شرع', 'شتان', 'كأنما', 'قد', 'أنا', 'جير', 'ألف', 'كليكما', 'علق', 'بعد', 'التي', 'الذي', 'اثني', 'مكانكم', 'أمام', 'كأيّن', 'إلَيْكَ', 'غ', 'هللة', 'هَاتانِ', 'لستم', 'كن', 'لسنا', 'رأى', 'ثمانمئة', 'لم', 'غداة', 'تي', 'دولار', 'أطعم', 'جانفي', 'ما برح', 'أربع', 'ص', 'ض', 'لدى', 'لستما', 'لنا', 'مع', 'فيه', 'إزاء', 'إحدى', 'هم', 'أمّا', 'إليكن', 'يفعلان', 'ز', 'عليك', 'رجع', 'ثلاثمئة', 'حيثما', 'ه', 'حيَّ', 'عين', 'هَؤلاء', 'تعسا', 'عليه', 'عامة', 'علًّ', 'سين', 'ي', 'هاء', 'منذ', 'قام', 'أوشك', 'بلى', 'ءَ', 'أيضا', 'طَق', 'أفعل به', 'أربعة', 'عشر', 'شَتَّانَ', 'أنًّ', 'مايو', 'واحد', 'أخو', 'هاته', 'أهلا', 'على', 'ثالث', 'إليكَ', 'من', 'ليت', 'ثمانون', 'قاطبة', 'أخذ', 'ماي', 'أل', 'يوان', 'ذال', 'ثمَّ', 'انقلب', 'ساء', 'أو', 'تفعلون', 'فيما', 'كأن', 'كرب', 'جمعة', 'فيم', 'ثاء', 'سادس', 'ألفى', 'إذن', 'مارس', 'أسكن', 'سبحان', 'غين', 'اربعون', 'هَذَيْنِ', 'عاشر', 'هاك', 'ومن', 'قاف', 'جنيه', 'بؤسا', 'فإن', 'بَسْ', 'ذيت', 'عشرة', 'أبو', 'خلا', 'كلتا', 'زود', 'اللواتي', 'صدقا', 'هاهنا', 'نبَّا', 'إليكم', 'صار', 'هَذانِ', 'كليهما', 'إياكما', 'ذانك', 'ألا', 'خبَّر', 'لهن', 'بيد', 'سوف', 'هَاتِه', 'هيت', 'ف', 'دواليك', 'لاسيما', 'وما', 'ثمّة', 'ثماني', 'قبل', 'ثلاثاء', 'لام', 'صهْ', 'أخبر', 'تحوّل', 'بمن', 'سبع', 'أمسى', 'لما', 'صراحة', 'صباح', 'هناك', 'ثم', 'لا', 'ريال', 'غالبا', 'إيه', 'نفس', 'إياهم', 'ممن', 'ؤ', 'هذه', 'ديسمبر', 'إلّا', 'بخ', 'خمسة', 'هَذِي', 'لكنما', 'خامس', 'شباط', 'فرادى', 'بكم', 'راء', 'حرى', 'لولا', 'تموز', 'لمّا', 'ثمة', 'أنت', 'يمين', 'أنبأ', 'أجل', 'إلا', 'كذا', 'حدَث', 'علم', 'إنا', 'تَيْنِ', 'أكثر', 'متى', 'د', 'كيت', 'أنتِ']\n"
     ]
    },
    {
     "name": "stderr",
     "output_type": "stream",
     "text": [
      "[nltk_data] Downloading package stopwords to\n",
      "[nltk_data]     C:\\Users\\Musae\\AppData\\Roaming\\nltk_data...\n",
      "[nltk_data]   Package stopwords is already up-to-date!\n"
     ]
    }
   ],
   "source": [
    "import nltk\n",
    "from nltk.corpus import stopwords\n",
    "nltk.download('stopwords')\n",
    "stop_words = list(set(stopwords.words('arabic')))\n",
    "print(stop_words)"
   ]
  },
  {
   "cell_type": "code",
   "execution_count": 8,
   "metadata": {},
   "outputs": [],
   "source": [
    "import re\n",
    "import string\n",
    "import sys\n",
    "import argparse\n",
    "from nltk.tokenize import word_tokenize\n",
    "\n",
    "arabic_punctuations = '''`÷×؛<>_()*&^%][ـ،/:\"؟.,'{}~¦+|!”…“–ـ'''\n",
    "english_punctuations = string.punctuation\n",
    "punctuations_list = arabic_punctuations + english_punctuations"
   ]
  },
  {
   "cell_type": "code",
   "execution_count": 9,
   "metadata": {},
   "outputs": [],
   "source": [
    "def remove_diacritics(text):\n",
    "    arabic_diacritics = re.compile(\"\"\" ّ    | # Tashdid\n",
    "                             َ    | # Fatha\n",
    "                             ً    | # Tanwin Fath\n",
    "                             ُ    | # Damma\n",
    "                             ٌ    | # Tanwin Damm\n",
    "                             ِ    | # Kasra\n",
    "                             ٍ    | # Tanwin Kasr\n",
    "                             ْ    | # Sukun\n",
    "                             ـ     # Tatwil/Kashida\n",
    "                         \"\"\", re.VERBOSE)\n",
    "    text = re.sub(arabic_diacritics, '', str(text))\n",
    "    return text\n",
    "\n",
    "def remove_emoji(text):\n",
    "    regrex_pattern = re.compile(pattern = \"[\"\n",
    "        u\"\\U0001F600-\\U0001F64F\"  # emoticons\n",
    "        u\"\\U0001F300-\\U0001F5FF\"  # symbols & pictographs\n",
    "        u\"\\U0001F680-\\U0001F6FF\"  # transport & map symbols\n",
    "        u\"\\U0001F1E0-\\U0001F1FF\"  # flags (iOS)\n",
    "                           \"]+\", flags = re.UNICODE)\n",
    "    return regrex_pattern.sub(r'',text)\n",
    "\n",
    "def clean_text(text):\n",
    "    text = \"\".join([word for word in text if word not in string.punctuation])\n",
    "    text = remove_emoji(text)\n",
    "    text = remove_diacritics(text)\n",
    "    tokens = word_tokenize(text)\n",
    "    text = ' '.join([word for word in tokens if word not in stop_words])\n",
    "    return text"
   ]
  },
  {
   "cell_type": "code",
   "execution_count": 10,
   "metadata": {},
   "outputs": [],
   "source": [
    "df['cleanedtext'] = df['text'].apply(clean_text)\n"
   ]
  },
  {
   "cell_type": "code",
   "execution_count": 11,
   "metadata": {},
   "outputs": [
    {
     "data": {
      "text/html": [
       "<div>\n",
       "<style scoped>\n",
       "    .dataframe tbody tr th:only-of-type {\n",
       "        vertical-align: middle;\n",
       "    }\n",
       "\n",
       "    .dataframe tbody tr th {\n",
       "        vertical-align: top;\n",
       "    }\n",
       "\n",
       "    .dataframe thead th {\n",
       "        text-align: right;\n",
       "    }\n",
       "</style>\n",
       "<table border=\"1\" class=\"dataframe\">\n",
       "  <thead>\n",
       "    <tr style=\"text-align: right;\">\n",
       "      <th></th>\n",
       "      <th>label</th>\n",
       "      <th>text</th>\n",
       "      <th>cleanedtext</th>\n",
       "    </tr>\n",
       "  </thead>\n",
       "  <tbody>\n",
       "    <tr>\n",
       "      <th>0</th>\n",
       "      <td>Positive</td>\n",
       "      <td>ممتاز نوعا ما . النظافة والموقع والتجهيز والشا...</td>\n",
       "      <td>ممتاز نوعا النظافة والموقع والتجهيز والشاطيء ا...</td>\n",
       "    </tr>\n",
       "    <tr>\n",
       "      <th>1</th>\n",
       "      <td>Positive</td>\n",
       "      <td>أحد أسباب نجاح الإمارات أن كل شخص في هذه الدول...</td>\n",
       "      <td>أسباب نجاح الإمارات شخص الدولة يعشق ترابها نحب...</td>\n",
       "    </tr>\n",
       "    <tr>\n",
       "      <th>2</th>\n",
       "      <td>Positive</td>\n",
       "      <td>هادفة .. وقوية. تنقلك من صخب شوارع القاهرة الى...</td>\n",
       "      <td>هادفة وقوية تنقلك صخب شوارع القاهرة الى هدوء ج...</td>\n",
       "    </tr>\n",
       "    <tr>\n",
       "      <th>3</th>\n",
       "      <td>Positive</td>\n",
       "      <td>خلصنا .. مبدئيا اللي مستني ابهار زي الفيل الاز...</td>\n",
       "      <td>خلصنا مبدئيا اللي مستني ابهار زي الفيل الازرق ...</td>\n",
       "    </tr>\n",
       "    <tr>\n",
       "      <th>4</th>\n",
       "      <td>Positive</td>\n",
       "      <td>ياسات جلوريا جزء لا يتجزأ من دبي . فندق متكامل...</td>\n",
       "      <td>ياسات جلوريا جزء يتجزأ دبي فندق متكامل الخدمات...</td>\n",
       "    </tr>\n",
       "  </tbody>\n",
       "</table>\n",
       "</div>"
      ],
      "text/plain": [
       "      label                                               text  \\\n",
       "0  Positive  ممتاز نوعا ما . النظافة والموقع والتجهيز والشا...   \n",
       "1  Positive  أحد أسباب نجاح الإمارات أن كل شخص في هذه الدول...   \n",
       "2  Positive  هادفة .. وقوية. تنقلك من صخب شوارع القاهرة الى...   \n",
       "3  Positive  خلصنا .. مبدئيا اللي مستني ابهار زي الفيل الاز...   \n",
       "4  Positive  ياسات جلوريا جزء لا يتجزأ من دبي . فندق متكامل...   \n",
       "\n",
       "                                         cleanedtext  \n",
       "0  ممتاز نوعا النظافة والموقع والتجهيز والشاطيء ا...  \n",
       "1  أسباب نجاح الإمارات شخص الدولة يعشق ترابها نحب...  \n",
       "2  هادفة وقوية تنقلك صخب شوارع القاهرة الى هدوء ج...  \n",
       "3  خلصنا مبدئيا اللي مستني ابهار زي الفيل الازرق ...  \n",
       "4  ياسات جلوريا جزء يتجزأ دبي فندق متكامل الخدمات...  "
      ]
     },
     "execution_count": 11,
     "metadata": {},
     "output_type": "execute_result"
    }
   ],
   "source": [
    "df.head()\n"
   ]
  },
  {
   "cell_type": "code",
   "execution_count": 12,
   "metadata": {},
   "outputs": [],
   "source": [
    "def process_text(text):\n",
    "    stemmer = nltk.ISRIStemmer()\n",
    "    word_list = nltk.word_tokenize(text)\n",
    "    #stemming\n",
    "    word_list = [stemmer.stem(w) for w in  word_list]\n",
    "    return ' '.join(word_list)"
   ]
  },
  {
   "cell_type": "code",
   "execution_count": 13,
   "metadata": {},
   "outputs": [],
   "source": [
    "df['cleanedtextnew']=df['cleanedtext'].apply(process_text)\n"
   ]
  },
  {
   "cell_type": "code",
   "execution_count": 14,
   "metadata": {},
   "outputs": [
    {
     "data": {
      "text/html": [
       "<div>\n",
       "<style scoped>\n",
       "    .dataframe tbody tr th:only-of-type {\n",
       "        vertical-align: middle;\n",
       "    }\n",
       "\n",
       "    .dataframe tbody tr th {\n",
       "        vertical-align: top;\n",
       "    }\n",
       "\n",
       "    .dataframe thead th {\n",
       "        text-align: right;\n",
       "    }\n",
       "</style>\n",
       "<table border=\"1\" class=\"dataframe\">\n",
       "  <thead>\n",
       "    <tr style=\"text-align: right;\">\n",
       "      <th></th>\n",
       "      <th>label</th>\n",
       "      <th>text</th>\n",
       "      <th>cleanedtext</th>\n",
       "      <th>cleanedtextnew</th>\n",
       "    </tr>\n",
       "  </thead>\n",
       "  <tbody>\n",
       "    <tr>\n",
       "      <th>0</th>\n",
       "      <td>Positive</td>\n",
       "      <td>ممتاز نوعا ما . النظافة والموقع والتجهيز والشا...</td>\n",
       "      <td>ممتاز نوعا النظافة والموقع والتجهيز والشاطيء ا...</td>\n",
       "      <td>متز نوع نظف وقع جهز شاطيء طعم</td>\n",
       "    </tr>\n",
       "    <tr>\n",
       "      <th>1</th>\n",
       "      <td>Positive</td>\n",
       "      <td>أحد أسباب نجاح الإمارات أن كل شخص في هذه الدول...</td>\n",
       "      <td>أسباب نجاح الإمارات شخص الدولة يعشق ترابها نحب...</td>\n",
       "      <td>سبب نجح امر شخص دول عشق ترب نحب امر ومض فكر نص...</td>\n",
       "    </tr>\n",
       "    <tr>\n",
       "      <th>2</th>\n",
       "      <td>Positive</td>\n",
       "      <td>هادفة .. وقوية. تنقلك من صخب شوارع القاهرة الى...</td>\n",
       "      <td>هادفة وقوية تنقلك صخب شوارع القاهرة الى هدوء ج...</td>\n",
       "      <td>هدف وقي نقل صخب شرع قهر الى هدء جبل شيش عرف حق...</td>\n",
       "    </tr>\n",
       "    <tr>\n",
       "      <th>3</th>\n",
       "      <td>Positive</td>\n",
       "      <td>خلصنا .. مبدئيا اللي مستني ابهار زي الفيل الاز...</td>\n",
       "      <td>خلصنا مبدئيا اللي مستني ابهار زي الفيل الازرق ...</td>\n",
       "      <td>خلص بدئ الل مست بهر زي فيل زرق ميقراش احس حمد ...</td>\n",
       "    </tr>\n",
       "    <tr>\n",
       "      <th>4</th>\n",
       "      <td>Positive</td>\n",
       "      <td>ياسات جلوريا جزء لا يتجزأ من دبي . فندق متكامل...</td>\n",
       "      <td>ياسات جلوريا جزء يتجزأ دبي فندق متكامل الخدمات...</td>\n",
       "      <td>ياس جلر جزء جزأ دبي ندق كامل خدم ريح نفس وجد</td>\n",
       "    </tr>\n",
       "  </tbody>\n",
       "</table>\n",
       "</div>"
      ],
      "text/plain": [
       "      label                                               text  \\\n",
       "0  Positive  ممتاز نوعا ما . النظافة والموقع والتجهيز والشا...   \n",
       "1  Positive  أحد أسباب نجاح الإمارات أن كل شخص في هذه الدول...   \n",
       "2  Positive  هادفة .. وقوية. تنقلك من صخب شوارع القاهرة الى...   \n",
       "3  Positive  خلصنا .. مبدئيا اللي مستني ابهار زي الفيل الاز...   \n",
       "4  Positive  ياسات جلوريا جزء لا يتجزأ من دبي . فندق متكامل...   \n",
       "\n",
       "                                         cleanedtext  \\\n",
       "0  ممتاز نوعا النظافة والموقع والتجهيز والشاطيء ا...   \n",
       "1  أسباب نجاح الإمارات شخص الدولة يعشق ترابها نحب...   \n",
       "2  هادفة وقوية تنقلك صخب شوارع القاهرة الى هدوء ج...   \n",
       "3  خلصنا مبدئيا اللي مستني ابهار زي الفيل الازرق ...   \n",
       "4  ياسات جلوريا جزء يتجزأ دبي فندق متكامل الخدمات...   \n",
       "\n",
       "                                      cleanedtextnew  \n",
       "0                      متز نوع نظف وقع جهز شاطيء طعم  \n",
       "1  سبب نجح امر شخص دول عشق ترب نحب امر ومض فكر نص...  \n",
       "2  هدف وقي نقل صخب شرع قهر الى هدء جبل شيش عرف حق...  \n",
       "3  خلص بدئ الل مست بهر زي فيل زرق ميقراش احس حمد ...  \n",
       "4       ياس جلر جزء جزأ دبي ندق كامل خدم ريح نفس وجد  "
      ]
     },
     "execution_count": 14,
     "metadata": {},
     "output_type": "execute_result"
    }
   ],
   "source": [
    "df.head()\n"
   ]
  },
  {
   "cell_type": "code",
   "execution_count": 15,
   "metadata": {},
   "outputs": [
    {
     "name": "stdout",
     "output_type": "stream",
     "text": [
      "46666\n",
      "46666\n",
      "20000\n",
      "20000\n"
     ]
    }
   ],
   "source": [
    "### split data to train and test \n",
    "from sklearn.model_selection import train_test_split\n",
    "x,y=df['cleanedtext'],df['label']\n",
    "x_train,x_test,y_train,y_test=train_test_split(x,y,test_size=0.3)\n",
    "print(len(x_train))\n",
    "print(len(y_train))\n",
    "print(len(x_test))\n",
    "print(len(y_test))"
   ]
  },
  {
   "cell_type": "code",
   "execution_count": 16,
   "metadata": {},
   "outputs": [],
   "source": [
    "from sklearn.feature_extraction.text import TfidfVectorizer\n",
    "from sklearn.svm import SVC\n",
    "vectorizer=TfidfVectorizer() #(analyzer='char_wb',ngram_range=(3,5),min_df=0.01,max_df=0.3)"
   ]
  },
  {
   "cell_type": "code",
   "execution_count": 17,
   "metadata": {},
   "outputs": [],
   "source": [
    "clf=SVC(kernel='rbf')\n"
   ]
  },
  {
   "cell_type": "code",
   "execution_count": 18,
   "metadata": {},
   "outputs": [],
   "source": [
    "from sklearn.pipeline import make_pipeline\n",
    "pipe=make_pipeline(vectorizer,clf)"
   ]
  },
  {
   "cell_type": "code",
   "execution_count": 19,
   "metadata": {},
   "outputs": [
    {
     "data": {
      "text/html": [
       "<style>#sk-container-id-1 {color: black;}#sk-container-id-1 pre{padding: 0;}#sk-container-id-1 div.sk-toggleable {background-color: white;}#sk-container-id-1 label.sk-toggleable__label {cursor: pointer;display: block;width: 100%;margin-bottom: 0;padding: 0.3em;box-sizing: border-box;text-align: center;}#sk-container-id-1 label.sk-toggleable__label-arrow:before {content: \"▸\";float: left;margin-right: 0.25em;color: #696969;}#sk-container-id-1 label.sk-toggleable__label-arrow:hover:before {color: black;}#sk-container-id-1 div.sk-estimator:hover label.sk-toggleable__label-arrow:before {color: black;}#sk-container-id-1 div.sk-toggleable__content {max-height: 0;max-width: 0;overflow: hidden;text-align: left;background-color: #f0f8ff;}#sk-container-id-1 div.sk-toggleable__content pre {margin: 0.2em;color: black;border-radius: 0.25em;background-color: #f0f8ff;}#sk-container-id-1 input.sk-toggleable__control:checked~div.sk-toggleable__content {max-height: 200px;max-width: 100%;overflow: auto;}#sk-container-id-1 input.sk-toggleable__control:checked~label.sk-toggleable__label-arrow:before {content: \"▾\";}#sk-container-id-1 div.sk-estimator input.sk-toggleable__control:checked~label.sk-toggleable__label {background-color: #d4ebff;}#sk-container-id-1 div.sk-label input.sk-toggleable__control:checked~label.sk-toggleable__label {background-color: #d4ebff;}#sk-container-id-1 input.sk-hidden--visually {border: 0;clip: rect(1px 1px 1px 1px);clip: rect(1px, 1px, 1px, 1px);height: 1px;margin: -1px;overflow: hidden;padding: 0;position: absolute;width: 1px;}#sk-container-id-1 div.sk-estimator {font-family: monospace;background-color: #f0f8ff;border: 1px dotted black;border-radius: 0.25em;box-sizing: border-box;margin-bottom: 0.5em;}#sk-container-id-1 div.sk-estimator:hover {background-color: #d4ebff;}#sk-container-id-1 div.sk-parallel-item::after {content: \"\";width: 100%;border-bottom: 1px solid gray;flex-grow: 1;}#sk-container-id-1 div.sk-label:hover label.sk-toggleable__label {background-color: #d4ebff;}#sk-container-id-1 div.sk-serial::before {content: \"\";position: absolute;border-left: 1px solid gray;box-sizing: border-box;top: 0;bottom: 0;left: 50%;z-index: 0;}#sk-container-id-1 div.sk-serial {display: flex;flex-direction: column;align-items: center;background-color: white;padding-right: 0.2em;padding-left: 0.2em;position: relative;}#sk-container-id-1 div.sk-item {position: relative;z-index: 1;}#sk-container-id-1 div.sk-parallel {display: flex;align-items: stretch;justify-content: center;background-color: white;position: relative;}#sk-container-id-1 div.sk-item::before, #sk-container-id-1 div.sk-parallel-item::before {content: \"\";position: absolute;border-left: 1px solid gray;box-sizing: border-box;top: 0;bottom: 0;left: 50%;z-index: -1;}#sk-container-id-1 div.sk-parallel-item {display: flex;flex-direction: column;z-index: 1;position: relative;background-color: white;}#sk-container-id-1 div.sk-parallel-item:first-child::after {align-self: flex-end;width: 50%;}#sk-container-id-1 div.sk-parallel-item:last-child::after {align-self: flex-start;width: 50%;}#sk-container-id-1 div.sk-parallel-item:only-child::after {width: 0;}#sk-container-id-1 div.sk-dashed-wrapped {border: 1px dashed gray;margin: 0 0.4em 0.5em 0.4em;box-sizing: border-box;padding-bottom: 0.4em;background-color: white;}#sk-container-id-1 div.sk-label label {font-family: monospace;font-weight: bold;display: inline-block;line-height: 1.2em;}#sk-container-id-1 div.sk-label-container {text-align: center;}#sk-container-id-1 div.sk-container {/* jupyter's `normalize.less` sets `[hidden] { display: none; }` but bootstrap.min.css set `[hidden] { display: none !important; }` so we also need the `!important` here to be able to override the default hidden behavior on the sphinx rendered scikit-learn.org. See: https://github.com/scikit-learn/scikit-learn/issues/21755 */display: inline-block !important;position: relative;}#sk-container-id-1 div.sk-text-repr-fallback {display: none;}</style><div id=\"sk-container-id-1\" class=\"sk-top-container\"><div class=\"sk-text-repr-fallback\"><pre>Pipeline(steps=[(&#x27;tfidfvectorizer&#x27;, TfidfVectorizer()), (&#x27;svc&#x27;, SVC())])</pre><b>In a Jupyter environment, please rerun this cell to show the HTML representation or trust the notebook. <br />On GitHub, the HTML representation is unable to render, please try loading this page with nbviewer.org.</b></div><div class=\"sk-container\" hidden><div class=\"sk-item sk-dashed-wrapped\"><div class=\"sk-label-container\"><div class=\"sk-label sk-toggleable\"><input class=\"sk-toggleable__control sk-hidden--visually\" id=\"sk-estimator-id-1\" type=\"checkbox\" ><label for=\"sk-estimator-id-1\" class=\"sk-toggleable__label sk-toggleable__label-arrow\">Pipeline</label><div class=\"sk-toggleable__content\"><pre>Pipeline(steps=[(&#x27;tfidfvectorizer&#x27;, TfidfVectorizer()), (&#x27;svc&#x27;, SVC())])</pre></div></div></div><div class=\"sk-serial\"><div class=\"sk-item\"><div class=\"sk-estimator sk-toggleable\"><input class=\"sk-toggleable__control sk-hidden--visually\" id=\"sk-estimator-id-2\" type=\"checkbox\" ><label for=\"sk-estimator-id-2\" class=\"sk-toggleable__label sk-toggleable__label-arrow\">TfidfVectorizer</label><div class=\"sk-toggleable__content\"><pre>TfidfVectorizer()</pre></div></div></div><div class=\"sk-item\"><div class=\"sk-estimator sk-toggleable\"><input class=\"sk-toggleable__control sk-hidden--visually\" id=\"sk-estimator-id-3\" type=\"checkbox\" ><label for=\"sk-estimator-id-3\" class=\"sk-toggleable__label sk-toggleable__label-arrow\">SVC</label><div class=\"sk-toggleable__content\"><pre>SVC()</pre></div></div></div></div></div></div></div>"
      ],
      "text/plain": [
       "Pipeline(steps=[('tfidfvectorizer', TfidfVectorizer()), ('svc', SVC())])"
      ]
     },
     "execution_count": 19,
     "metadata": {},
     "output_type": "execute_result"
    }
   ],
   "source": [
    "pipe.fit(x_train,y_train)\n"
   ]
  },
  {
   "cell_type": "code",
   "execution_count": 20,
   "metadata": {},
   "outputs": [],
   "source": [
    "y_pred=pipe.predict(x_test)\n"
   ]
  },
  {
   "cell_type": "code",
   "execution_count": 21,
   "metadata": {},
   "outputs": [
    {
     "data": {
      "text/plain": [
       "0.8518"
      ]
     },
     "execution_count": 21,
     "metadata": {},
     "output_type": "execute_result"
    }
   ],
   "source": [
    "from sklearn.metrics import accuracy_score,confusion_matrix\n",
    "accuracy_score(y_test,y_pred)"
   ]
  }
 ],
 "metadata": {
  "kernelspec": {
   "display_name": "Python 3",
   "language": "python",
   "name": "python3"
  },
  "language_info": {
   "codemirror_mode": {
    "name": "ipython",
    "version": 3
   },
   "file_extension": ".py",
   "mimetype": "text/x-python",
   "name": "python",
   "nbconvert_exporter": "python",
   "pygments_lexer": "ipython3",
   "version": "3.11.4"
  },
  "orig_nbformat": 4
 },
 "nbformat": 4,
 "nbformat_minor": 2
}
